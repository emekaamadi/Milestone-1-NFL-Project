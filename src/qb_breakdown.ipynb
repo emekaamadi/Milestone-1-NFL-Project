{
 "cells": [
  {
   "cell_type": "markdown",
   "metadata": {},
   "source": [
    "## Load in Data"
   ]
  },
  {
   "cell_type": "code",
   "execution_count": 1,
   "metadata": {},
   "outputs": [],
   "source": [
    "# Import libraries\n",
    "import pandas as pd\n",
    "import altair as alt\n",
    "import numpy as np\n",
    "\n",
    "# import get tracking data function\n",
    "from functions import get_tracking_data\n",
    "\n",
    "# read qb_movement.csv.zip as a dataframe\n",
    "tracking_df = get_tracking_data()\n",
    "\n",
    "# Read in plays data\n",
    "plays_df = pd.read_csv('./data/plays.csv')\n",
    "\n",
    "# Read player data\n",
    "players_df = pd.read_csv('./data/players.csv')"
   ]
  },
  {
   "cell_type": "markdown",
   "metadata": {},
   "source": [
    "## Join Plays"
   ]
  },
  {
   "cell_type": "code",
   "execution_count": 2,
   "metadata": {},
   "outputs": [],
   "source": [
    "# merge tracking data with plays to get dropbackType and yardline\n",
    "tracking_df = tracking_df.merge(\n",
    "    plays_df[[\"gameId\", \"playId\", \"dropBackType\", \"absoluteYardlineNumber\"]],\n",
    "    how=\"left\",\n",
    "    on=[\"gameId\", \"playId\"],\n",
    ")\n",
    "# Rmeove plays that dont have a value for pass result\n",
    "tracking_df = tracking_df.dropna(subset=[\"passResult\"])\n",
    "# filter for QB's\n",
    "tracking_df = tracking_df[tracking_df[\"officialPosition\"] == \"QB\"]\n",
    "# create integer column for pass result\n",
    "tracking_df[\"passComplete\"] = (tracking_df[\"passResult\"] == \"C\").astype(int)\n",
    "# calculate throw distance\n",
    "tracking_df[\"throwDistance\"] = np.where(\n",
    "    tracking_df[\"x\"] < tracking_df[\"absoluteYardlineNumber\"],\n",
    "    tracking_df[\"rec_x\"] - tracking_df[\"absoluteYardlineNumber\"],\n",
    "    np.abs(tracking_df[\"rec_x\"] - tracking_df[\"absoluteYardlineNumber\"]),\n",
    ")"
   ]
  },
  {
   "cell_type": "markdown",
   "metadata": {},
   "source": [
    "## Filter for Various Conditions"
   ]
  },
  {
   "cell_type": "code",
   "execution_count": 3,
   "metadata": {},
   "outputs": [],
   "source": [
    "# filter for qb's with atleast 50 attempts and calculate there completion percentage in new column\n",
    "qb_comp = tracking_df.groupby('displayName').filter(lambda x: len(x) >= 50)\n",
    "qb_comp = qb_comp.groupby('displayName')['passComplete'].mean().reset_index()\n",
    "qb_comp.columns = ['displayName', 'Overall']"
   ]
  },
  {
   "cell_type": "code",
   "execution_count": 4,
   "metadata": {},
   "outputs": [],
   "source": [
    "# filter for traditional dropback and calculate completion percentage then merge to Qb_comp\n",
    "qb_trad = tracking_df[tracking_df['dropBackType']== 'TRADITIONAL'].groupby(['displayName'])['passComplete'].mean().reset_index()\n",
    "qb_trad.columns = ['displayName', 'TraditionalDropback']\n",
    "qb_comp = qb_comp.merge(qb_trad, on='displayName', how='left')"
   ]
  },
  {
   "cell_type": "code",
   "execution_count": 5,
   "metadata": {},
   "outputs": [],
   "source": [
    "# filter for left scrambles and rollouts and calculate completion percentage then merge to Qb_comp\n",
    "tracking_left = tracking_df[(tracking_df['dropBackType']== 'SCRAMBLE_ROLLOUT_LEFT') | (tracking_df['dropBackType']== 'DESIGNED_ROLLOUT_LEFT')|((tracking_df['qb_direction']== 'left')&(tracking_df['dropBackType']== 'SCRAMBLE'))]\n",
    "qb_left = tracking_left.groupby(['displayName'])['passComplete'].mean().reset_index()\n",
    "qb_left.columns = ['displayName', 'GoingLeft']\n",
    "qb_comp = qb_comp.merge(qb_left, on='displayName', how='left')"
   ]
  },
  {
   "cell_type": "code",
   "execution_count": 6,
   "metadata": {},
   "outputs": [],
   "source": [
    "# filter for right scrambles and rollouts and calculate completion percentage then merge to Qb_comp\n",
    "tracking_right = tracking_df[(tracking_df['dropBackType']== 'SCRAMBLE_ROLLOUT_RIGHT') | (tracking_df['dropBackType']== 'DESIGNED_ROLLOUT_RIGHT')|((tracking_df['qb_direction']== 'right')&(tracking_df['dropBackType']== 'SCRAMBLE'))]\n",
    "qb_right = tracking_right.groupby(['displayName'])['passComplete'].mean().reset_index()\n",
    "qb_right.columns = ['displayName', 'GoingRight']\n",
    "qb_comp = qb_comp.merge(qb_right, on='displayName', how='left')"
   ]
  },
  {
   "cell_type": "markdown",
   "metadata": {},
   "source": [
    "## Calc Avg Throw Distance"
   ]
  },
  {
   "cell_type": "code",
   "execution_count": 7,
   "metadata": {},
   "outputs": [],
   "source": [
    "# calculate average throw distance for each quartback and merge to qb_comp\n",
    "qb_distance = tracking_df.groupby(['displayName'])['throwDistance'].mean().reset_index()\n",
    "qb_distance.columns = ['displayName', 'ReceiverDistance']\n",
    "qb_comp = qb_comp.merge(qb_distance, on='displayName', how='left')"
   ]
  },
  {
   "cell_type": "code",
   "execution_count": 8,
   "metadata": {},
   "outputs": [],
   "source": [
    "# Adding Attempts for each column in Qb_comp\n",
    "qb_comp_count = tracking_df.groupby('displayName').filter(lambda x: len(x) >= 50)\n",
    "qb_comp_count = qb_comp_count.groupby('displayName').size().reset_index(name='OverallAttempts')\n",
    "\n",
    "qb_trad_count = tracking_df[tracking_df['dropBackType']== 'TRADITIONAL'].groupby('displayName').size().reset_index(name='TraditionalDropbackAttempts')\n",
    "\n",
    "tracking_left_count = tracking_df[(tracking_df['dropBackType']== 'SCRAMBLE_ROLLOUT_LEFT') | (tracking_df['dropBackType']== 'DESIGNED_ROLLOUT_LEFT')|((tracking_df['qb_direction']== 'left')&(tracking_df['dropBackType']== 'SCRAMBLE'))]\n",
    "qb_left_count = tracking_left_count.groupby('displayName').size().reset_index(name='GoingLeftAttempts')\n",
    "\n",
    "tracking_right_count = tracking_df[(tracking_df['dropBackType']== 'SCRAMBLE_ROLLOUT_RIGHT') | (tracking_df['dropBackType']== 'DESIGNED_ROLLOUT_RIGHT')|((tracking_df['qb_direction']== 'right')&(tracking_df['dropBackType']== 'SCRAMBLE'))]\n",
    "qb_right_count = tracking_right_count.groupby('displayName').size().reset_index(name='GoingRightAttempts')\n",
    "\n",
    "qb_comp = qb_comp.merge(qb_comp_count, on='displayName', how='left')\n",
    "qb_comp = qb_comp.merge(qb_trad_count, on='displayName', how='left')\n",
    "qb_comp = qb_comp.merge(qb_left_count, on='displayName', how='left')\n",
    "qb_comp = qb_comp.merge(qb_right_count, on='displayName', how='left')"
   ]
  },
  {
   "cell_type": "markdown",
   "metadata": {},
   "source": [
    "## Plotting"
   ]
  },
  {
   "cell_type": "code",
   "execution_count": 9,
   "metadata": {},
   "outputs": [],
   "source": [
    "# Define a function to create a single bar chart with specified color\n",
    "def create_bar_chart(data, field_name, title, color, y_title,attempts, show_y_axis = True):\n",
    "    chart = alt.Chart(data).mark_bar(color=color).encode(\n",
    "        x=alt.X(field_name+':Q', title=title, axis=alt.Axis(orient = 'top', labels= False, ticks = False)),\n",
    "        y=alt.Y('displayName:N', sort='-x', title=y_title, axis=alt.Axis(labels= show_y_axis, ticks=  show_y_axis)),\n",
    "        tooltip = ['displayName', attempts]\n",
    "    )\n",
    "    text = chart.mark_text(\n",
    "        color = 'white',\n",
    "        align='right',\n",
    "        baseline='middle',\n",
    "        dx=-3  # Nudges text to right so it doesn't appear on top of the bar\n",
    "    ).encode(\n",
    "        text=alt.Text(field_name+':Q', format='.1%')\n",
    "    )\n",
    "    return ((chart + text).properties(height = 650, width = 150))\n"
   ]
  },
  {
   "cell_type": "code",
   "execution_count": 10,
   "metadata": {},
   "outputs": [],
   "source": [
    "# create distance chart seperately, different text format \n",
    "chart_distance = alt.Chart(qb_comp).mark_bar(color= 'purple').encode(\n",
    "        x=alt.X('ReceiverDistance:Q', title='Yards Per Attempt', axis=alt.Axis(orient = 'top', labels= False, ticks = False)),\n",
    "        y=alt.Y('displayName:N', sort='-x', title=None, axis=alt.Axis(labels= False, ticks=  False)),\n",
    "        tooltip = ['displayName', 'ReceiverDistance']\n",
    "    )\n",
    "text = chart_distance.mark_text(\n",
    "    color = 'white',\n",
    "    align='right',\n",
    "    baseline='middle',\n",
    "    dx=-3  # Nudges text to right so it doesn't appear on top of the bar\n",
    ").encode(\n",
    "    text=alt.Text('ReceiverDistance:Q', format='.2f')\n",
    ")\n",
    "chart_distance = (chart_distance + text).properties(height= 650,width = 150)"
   ]
  },
  {
   "cell_type": "code",
   "execution_count": 11,
   "metadata": {},
   "outputs": [
    {
     "data": {
      "text/html": [
       "\n",
       "<div id=\"altair-viz-8e02a355b11840db826fc4c410e90469\"></div>\n",
       "<script type=\"text/javascript\">\n",
       "  var VEGA_DEBUG = (typeof VEGA_DEBUG == \"undefined\") ? {} : VEGA_DEBUG;\n",
       "  (function(spec, embedOpt){\n",
       "    let outputDiv = document.currentScript.previousElementSibling;\n",
       "    if (outputDiv.id !== \"altair-viz-8e02a355b11840db826fc4c410e90469\") {\n",
       "      outputDiv = document.getElementById(\"altair-viz-8e02a355b11840db826fc4c410e90469\");\n",
       "    }\n",
       "    const paths = {\n",
       "      \"vega\": \"https://cdn.jsdelivr.net/npm//vega@5?noext\",\n",
       "      \"vega-lib\": \"https://cdn.jsdelivr.net/npm//vega-lib?noext\",\n",
       "      \"vega-lite\": \"https://cdn.jsdelivr.net/npm//vega-lite@4.17.0?noext\",\n",
       "      \"vega-embed\": \"https://cdn.jsdelivr.net/npm//vega-embed@6?noext\",\n",
       "    };\n",
       "\n",
       "    function maybeLoadScript(lib, version) {\n",
       "      var key = `${lib.replace(\"-\", \"\")}_version`;\n",
       "      return (VEGA_DEBUG[key] == version) ?\n",
       "        Promise.resolve(paths[lib]) :\n",
       "        new Promise(function(resolve, reject) {\n",
       "          var s = document.createElement('script');\n",
       "          document.getElementsByTagName(\"head\")[0].appendChild(s);\n",
       "          s.async = true;\n",
       "          s.onload = () => {\n",
       "            VEGA_DEBUG[key] = version;\n",
       "            return resolve(paths[lib]);\n",
       "          };\n",
       "          s.onerror = () => reject(`Error loading script: ${paths[lib]}`);\n",
       "          s.src = paths[lib];\n",
       "        });\n",
       "    }\n",
       "\n",
       "    function showError(err) {\n",
       "      outputDiv.innerHTML = `<div class=\"error\" style=\"color:red;\">${err}</div>`;\n",
       "      throw err;\n",
       "    }\n",
       "\n",
       "    function displayChart(vegaEmbed) {\n",
       "      vegaEmbed(outputDiv, spec, embedOpt)\n",
       "        .catch(err => showError(`Javascript Error: ${err.message}<br>This usually means there's a typo in your chart specification. See the javascript console for the full traceback.`));\n",
       "    }\n",
       "\n",
       "    if(typeof define === \"function\" && define.amd) {\n",
       "      requirejs.config({paths});\n",
       "      require([\"vega-embed\"], displayChart, err => showError(`Error loading script: ${err.message}`));\n",
       "    } else {\n",
       "      maybeLoadScript(\"vega\", \"5\")\n",
       "        .then(() => maybeLoadScript(\"vega-lite\", \"4.17.0\"))\n",
       "        .then(() => maybeLoadScript(\"vega-embed\", \"6\"))\n",
       "        .catch(showError)\n",
       "        .then(() => displayChart(vegaEmbed));\n",
       "    }\n",
       "  })({\"config\": {\"view\": {\"continuousWidth\": 400, \"continuousHeight\": 300, \"stroke\": null}, \"axis\": {\"grid\": false, \"labelFontWeight\": \"bold\"}}, \"hconcat\": [{\"layer\": [{\"mark\": {\"type\": \"bar\", \"color\": \"blue\"}, \"encoding\": {\"tooltip\": [{\"field\": \"displayName\", \"type\": \"nominal\"}, {\"field\": \"OverallAttempts\", \"type\": \"quantitative\"}], \"x\": {\"axis\": {\"labels\": false, \"orient\": \"top\", \"ticks\": false}, \"field\": \"Overall\", \"title\": \"Overall Completion %\", \"type\": \"quantitative\"}, \"y\": {\"axis\": {\"labels\": true, \"ticks\": true}, \"field\": \"displayName\", \"sort\": \"-x\", \"title\": null, \"type\": \"nominal\"}}}, {\"mark\": {\"type\": \"text\", \"align\": \"right\", \"baseline\": \"middle\", \"color\": \"white\", \"dx\": -3}, \"encoding\": {\"text\": {\"field\": \"Overall\", \"format\": \".1%\", \"type\": \"quantitative\"}, \"tooltip\": [{\"field\": \"displayName\", \"type\": \"nominal\"}, {\"field\": \"OverallAttempts\", \"type\": \"quantitative\"}], \"x\": {\"axis\": {\"labels\": false, \"orient\": \"top\", \"ticks\": false}, \"field\": \"Overall\", \"title\": \"Overall Completion %\", \"type\": \"quantitative\"}, \"y\": {\"axis\": {\"labels\": true, \"ticks\": true}, \"field\": \"displayName\", \"sort\": \"-x\", \"title\": null, \"type\": \"nominal\"}}}], \"height\": 650, \"width\": 150}, {\"layer\": [{\"mark\": {\"type\": \"bar\", \"color\": \"green\"}, \"encoding\": {\"tooltip\": [{\"field\": \"displayName\", \"type\": \"nominal\"}, {\"field\": \"TraditionalDropbackAttempts\", \"type\": \"quantitative\"}], \"x\": {\"axis\": {\"labels\": false, \"orient\": \"top\", \"ticks\": false}, \"field\": \"TraditionalDropback\", \"title\": \"Traditional Dropback Completion %\", \"type\": \"quantitative\"}, \"y\": {\"axis\": {\"labels\": false, \"ticks\": false}, \"field\": \"displayName\", \"sort\": \"-x\", \"title\": null, \"type\": \"nominal\"}}}, {\"mark\": {\"type\": \"text\", \"align\": \"right\", \"baseline\": \"middle\", \"color\": \"white\", \"dx\": -3}, \"encoding\": {\"text\": {\"field\": \"TraditionalDropback\", \"format\": \".1%\", \"type\": \"quantitative\"}, \"tooltip\": [{\"field\": \"displayName\", \"type\": \"nominal\"}, {\"field\": \"TraditionalDropbackAttempts\", \"type\": \"quantitative\"}], \"x\": {\"axis\": {\"labels\": false, \"orient\": \"top\", \"ticks\": false}, \"field\": \"TraditionalDropback\", \"title\": \"Traditional Dropback Completion %\", \"type\": \"quantitative\"}, \"y\": {\"axis\": {\"labels\": false, \"ticks\": false}, \"field\": \"displayName\", \"sort\": \"-x\", \"title\": null, \"type\": \"nominal\"}}}], \"height\": 650, \"width\": 150}, {\"layer\": [{\"mark\": {\"type\": \"bar\", \"color\": \"red\"}, \"encoding\": {\"tooltip\": [{\"field\": \"displayName\", \"type\": \"nominal\"}, {\"field\": \"GoingLeftAttempts\", \"type\": \"quantitative\"}], \"x\": {\"axis\": {\"labels\": false, \"orient\": \"top\", \"ticks\": false}, \"field\": \"GoingLeft\", \"title\": \"Scramble/Rolling Left Completion %\", \"type\": \"quantitative\"}, \"y\": {\"axis\": {\"labels\": false, \"ticks\": false}, \"field\": \"displayName\", \"sort\": \"-x\", \"title\": null, \"type\": \"nominal\"}}}, {\"mark\": {\"type\": \"text\", \"align\": \"right\", \"baseline\": \"middle\", \"color\": \"white\", \"dx\": -3}, \"encoding\": {\"text\": {\"field\": \"GoingLeft\", \"format\": \".1%\", \"type\": \"quantitative\"}, \"tooltip\": [{\"field\": \"displayName\", \"type\": \"nominal\"}, {\"field\": \"GoingLeftAttempts\", \"type\": \"quantitative\"}], \"x\": {\"axis\": {\"labels\": false, \"orient\": \"top\", \"ticks\": false}, \"field\": \"GoingLeft\", \"title\": \"Scramble/Rolling Left Completion %\", \"type\": \"quantitative\"}, \"y\": {\"axis\": {\"labels\": false, \"ticks\": false}, \"field\": \"displayName\", \"sort\": \"-x\", \"title\": null, \"type\": \"nominal\"}}}], \"height\": 650, \"width\": 150}, {\"layer\": [{\"mark\": {\"type\": \"bar\", \"color\": \"orange\"}, \"encoding\": {\"tooltip\": [{\"field\": \"displayName\", \"type\": \"nominal\"}, {\"field\": \"GoingRightAttempts\", \"type\": \"quantitative\"}], \"x\": {\"axis\": {\"labels\": false, \"orient\": \"top\", \"ticks\": false}, \"field\": \"GoingRight\", \"title\": \"Scramble/Rolling Right Completion %\", \"type\": \"quantitative\"}, \"y\": {\"axis\": {\"labels\": false, \"ticks\": false}, \"field\": \"displayName\", \"sort\": \"-x\", \"title\": null, \"type\": \"nominal\"}}}, {\"mark\": {\"type\": \"text\", \"align\": \"right\", \"baseline\": \"middle\", \"color\": \"white\", \"dx\": -3}, \"encoding\": {\"text\": {\"field\": \"GoingRight\", \"format\": \".1%\", \"type\": \"quantitative\"}, \"tooltip\": [{\"field\": \"displayName\", \"type\": \"nominal\"}, {\"field\": \"GoingRightAttempts\", \"type\": \"quantitative\"}], \"x\": {\"axis\": {\"labels\": false, \"orient\": \"top\", \"ticks\": false}, \"field\": \"GoingRight\", \"title\": \"Scramble/Rolling Right Completion %\", \"type\": \"quantitative\"}, \"y\": {\"axis\": {\"labels\": false, \"ticks\": false}, \"field\": \"displayName\", \"sort\": \"-x\", \"title\": null, \"type\": \"nominal\"}}}], \"height\": 650, \"width\": 150}, {\"layer\": [{\"mark\": {\"type\": \"bar\", \"color\": \"purple\"}, \"encoding\": {\"tooltip\": [{\"field\": \"displayName\", \"type\": \"nominal\"}, {\"field\": \"ReceiverDistance\", \"type\": \"quantitative\"}], \"x\": {\"axis\": {\"labels\": false, \"orient\": \"top\", \"ticks\": false}, \"field\": \"ReceiverDistance\", \"title\": \"Yards Per Attempt\", \"type\": \"quantitative\"}, \"y\": {\"axis\": {\"labels\": false, \"ticks\": false}, \"field\": \"displayName\", \"sort\": \"-x\", \"title\": null, \"type\": \"nominal\"}}}, {\"mark\": {\"type\": \"text\", \"align\": \"right\", \"baseline\": \"middle\", \"color\": \"white\", \"dx\": -3}, \"encoding\": {\"text\": {\"field\": \"ReceiverDistance\", \"format\": \".2f\", \"type\": \"quantitative\"}, \"tooltip\": [{\"field\": \"displayName\", \"type\": \"nominal\"}, {\"field\": \"ReceiverDistance\", \"type\": \"quantitative\"}], \"x\": {\"axis\": {\"labels\": false, \"orient\": \"top\", \"ticks\": false}, \"field\": \"ReceiverDistance\", \"title\": \"Yards Per Attempt\", \"type\": \"quantitative\"}, \"y\": {\"axis\": {\"labels\": false, \"ticks\": false}, \"field\": \"displayName\", \"sort\": \"-x\", \"title\": null, \"type\": \"nominal\"}}}], \"height\": 650, \"width\": 150}], \"data\": {\"name\": \"data-83793693e8e845516075de203c3bb9dc\"}, \"resolve\": {\"scale\": {\"y\": \"shared\"}}, \"spacing\": 0, \"title\": {\"text\": [\"Quarterback Completion Percentage Breakdown\"], \"subtitle\": [\"Minimum 50 Passes thrown\"], \"subtitleColor\": \"gray\", \"fontSize\": 20}, \"$schema\": \"https://vega.github.io/schema/vega-lite/v4.17.0.json\", \"datasets\": {\"data-83793693e8e845516075de203c3bb9dc\": [{\"displayName\": \"Aaron Rodgers\", \"Overall\": 0.6547619047619048, \"TraditionalDropback\": 0.7014925373134329, \"GoingLeft\": 0.5555555555555556, \"GoingRight\": 0.6428571428571429, \"ReceiverDistance\": 6.229523809523809, \"OverallAttempts\": 168, \"TraditionalDropbackAttempts\": 134, \"GoingLeftAttempts\": 9, \"GoingRightAttempts\": 14}, {\"displayName\": \"Andy Dalton\", \"Overall\": 0.7647058823529411, \"TraditionalDropback\": 0.7954545454545454, \"GoingLeft\": 1.0, \"GoingRight\": 0.0, \"ReceiverDistance\": 5.151176470588235, \"OverallAttempts\": 51, \"TraditionalDropbackAttempts\": 44, \"GoingLeftAttempts\": 3, \"GoingRightAttempts\": 2}, {\"displayName\": \"Baker Mayfield\", \"Overall\": 0.6234567901234568, \"TraditionalDropback\": 0.6423357664233577, \"GoingLeft\": 0.5, \"GoingRight\": 0.5833333333333334, \"ReceiverDistance\": 6.52425925925926, \"OverallAttempts\": 162, \"TraditionalDropbackAttempts\": 137, \"GoingLeftAttempts\": 4, \"GoingRightAttempts\": 12}, {\"displayName\": \"Ben Roethlisberger\", \"Overall\": 0.6504854368932039, \"TraditionalDropback\": 0.6885245901639344, \"GoingLeft\": 0.0, \"GoingRight\": 0.5, \"ReceiverDistance\": 4.947330097087378, \"OverallAttempts\": 206, \"TraditionalDropbackAttempts\": 183, \"GoingLeftAttempts\": 1, \"GoingRightAttempts\": 10}, {\"displayName\": \"Carson Wentz\", \"Overall\": 0.5948717948717949, \"TraditionalDropback\": 0.6424242424242425, \"GoingLeft\": 0.6, \"GoingRight\": 0.4444444444444444, \"ReceiverDistance\": 7.61051282051282, \"OverallAttempts\": 195, \"TraditionalDropbackAttempts\": 165, \"GoingLeftAttempts\": 5, \"GoingRightAttempts\": 9}, {\"displayName\": \"Dak Prescott\", \"Overall\": 0.7319587628865979, \"TraditionalDropback\": 0.7379310344827587, \"GoingLeft\": 0.75, \"GoingRight\": 0.9090909090909091, \"ReceiverDistance\": 6.733814432989691, \"OverallAttempts\": 194, \"TraditionalDropbackAttempts\": 145, \"GoingLeftAttempts\": 8, \"GoingRightAttempts\": 22}, {\"displayName\": \"Daniel Jones\", \"Overall\": 0.6443514644351465, \"TraditionalDropback\": 0.6577540106951871, \"GoingLeft\": 0.6666666666666666, \"GoingRight\": 0.6774193548387096, \"ReceiverDistance\": 6.676192468619248, \"OverallAttempts\": 239, \"TraditionalDropbackAttempts\": 187, \"GoingLeftAttempts\": 6, \"GoingRightAttempts\": 31}, {\"displayName\": \"Davis Mills\", \"Overall\": 0.6569767441860465, \"TraditionalDropback\": 0.7099236641221374, \"GoingLeft\": 0.4, \"GoingRight\": 0.6923076923076923, \"ReceiverDistance\": 6.666046511627907, \"OverallAttempts\": 172, \"TraditionalDropbackAttempts\": 131, \"GoingLeftAttempts\": 5, \"GoingRightAttempts\": 26}, {\"displayName\": \"Derek Carr\", \"Overall\": 0.702928870292887, \"TraditionalDropback\": 0.7156862745098039, \"GoingLeft\": 0.6, \"GoingRight\": 0.7647058823529411, \"ReceiverDistance\": 5.947991631799163, \"OverallAttempts\": 239, \"TraditionalDropbackAttempts\": 204, \"GoingLeftAttempts\": 5, \"GoingRightAttempts\": 17}, {\"displayName\": \"Geno Smith\", \"Overall\": 0.6753246753246753, \"TraditionalDropback\": 0.7741935483870968, \"GoingLeft\": 0.0, \"GoingRight\": 0.375, \"ReceiverDistance\": 6.887142857142858, \"OverallAttempts\": 77, \"TraditionalDropbackAttempts\": 62, \"GoingLeftAttempts\": 2, \"GoingRightAttempts\": 8}, {\"displayName\": \"Jacoby Brissett\", \"Overall\": 0.6644736842105263, \"TraditionalDropback\": 0.6774193548387096, \"GoingLeft\": 0.6, \"GoingRight\": 0.8, \"ReceiverDistance\": 6.397697368421053, \"OverallAttempts\": 152, \"TraditionalDropbackAttempts\": 124, \"GoingLeftAttempts\": 5, \"GoingRightAttempts\": 10}, {\"displayName\": \"Jalen Hurts\", \"Overall\": 0.6119402985074627, \"TraditionalDropback\": 0.6530612244897959, \"GoingLeft\": 0.0, \"GoingRight\": 0.5142857142857142, \"ReceiverDistance\": 8.226815920398009, \"OverallAttempts\": 201, \"TraditionalDropbackAttempts\": 147, \"GoingLeftAttempts\": 4, \"GoingRightAttempts\": 35}, {\"displayName\": \"Jameis Winston\", \"Overall\": 0.5952380952380952, \"TraditionalDropback\": 0.5841584158415841, \"GoingLeft\": 0.6666666666666666, \"GoingRight\": 0.6428571428571429, \"ReceiverDistance\": 7.282936507936507, \"OverallAttempts\": 126, \"TraditionalDropbackAttempts\": 101, \"GoingLeftAttempts\": 6, \"GoingRightAttempts\": 14}, {\"displayName\": \"Jared Goff\", \"Overall\": 0.7018867924528301, \"TraditionalDropback\": 0.7264150943396226, \"GoingLeft\": 0.7333333333333333, \"GoingRight\": 0.7857142857142857, \"ReceiverDistance\": 4.4719999999999995, \"OverallAttempts\": 265, \"TraditionalDropbackAttempts\": 212, \"GoingLeftAttempts\": 15, \"GoingRightAttempts\": 14}, {\"displayName\": \"Jimmy Garoppolo\", \"Overall\": 0.6690140845070423, \"TraditionalDropback\": 0.680672268907563, \"GoingLeft\": 0.8888888888888888, \"GoingRight\": 0.5, \"ReceiverDistance\": 6.936408450704225, \"OverallAttempts\": 142, \"TraditionalDropbackAttempts\": 119, \"GoingLeftAttempts\": 9, \"GoingRightAttempts\": 6}, {\"displayName\": \"Joe Burrow\", \"Overall\": 0.7222222222222222, \"TraditionalDropback\": 0.7258064516129032, \"GoingLeft\": 1.0, \"GoingRight\": 0.6, \"ReceiverDistance\": 6.145555555555556, \"OverallAttempts\": 216, \"TraditionalDropbackAttempts\": 186, \"GoingLeftAttempts\": 7, \"GoingRightAttempts\": 15}, {\"displayName\": \"Josh Allen\", \"Overall\": 0.6425339366515838, \"TraditionalDropback\": 0.6595744680851063, \"GoingLeft\": 0.6, \"GoingRight\": 0.7058823529411765, \"ReceiverDistance\": 7.834796380090498, \"OverallAttempts\": 221, \"TraditionalDropbackAttempts\": 188, \"GoingLeftAttempts\": 5, \"GoingRightAttempts\": 17}, {\"displayName\": \"Justin Fields\", \"Overall\": 0.6056338028169014, \"TraditionalDropback\": 0.6239316239316239, \"GoingLeft\": 0.6666666666666666, \"GoingRight\": 0.7, \"ReceiverDistance\": 6.689295774647888, \"OverallAttempts\": 142, \"TraditionalDropbackAttempts\": 117, \"GoingLeftAttempts\": 6, \"GoingRightAttempts\": 10}, {\"displayName\": \"Justin Herbert\", \"Overall\": 0.6573705179282868, \"TraditionalDropback\": 0.6633663366336634, \"GoingLeft\": 0.5384615384615384, \"GoingRight\": 0.7777777777777778, \"ReceiverDistance\": 6.07804780876494, \"OverallAttempts\": 251, \"TraditionalDropbackAttempts\": 202, \"GoingLeftAttempts\": 13, \"GoingRightAttempts\": 18}, {\"displayName\": \"Kirk Cousins\", \"Overall\": 0.6751054852320675, \"TraditionalDropback\": 0.6839378238341969, \"GoingLeft\": 0.8, \"GoingRight\": 0.7368421052631579, \"ReceiverDistance\": 6.1975527426160335, \"OverallAttempts\": 237, \"TraditionalDropbackAttempts\": 193, \"GoingLeftAttempts\": 10, \"GoingRightAttempts\": 19}, {\"displayName\": \"Kyler Murray\", \"Overall\": 0.7105263157894737, \"TraditionalDropback\": 0.7658227848101266, \"GoingLeft\": 0.7272727272727273, \"GoingRight\": 0.35714285714285715, \"ReceiverDistance\": 7.415684210526316, \"OverallAttempts\": 190, \"TraditionalDropbackAttempts\": 158, \"GoingLeftAttempts\": 11, \"GoingRightAttempts\": 14}, {\"displayName\": \"Lamar Jackson\", \"Overall\": 0.665, \"TraditionalDropback\": 0.6647058823529411, \"GoingLeft\": 1.0, \"GoingRight\": 0.6111111111111112, \"ReceiverDistance\": 7.666900000000001, \"OverallAttempts\": 200, \"TraditionalDropbackAttempts\": 170, \"GoingLeftAttempts\": 2, \"GoingRightAttempts\": 18}, {\"displayName\": \"Mac Jones\", \"Overall\": 0.69140625, \"TraditionalDropback\": 0.7161572052401747, \"GoingLeft\": 0.0, \"GoingRight\": 0.625, \"ReceiverDistance\": 6.1603515625, \"OverallAttempts\": 256, \"TraditionalDropbackAttempts\": 229, \"GoingLeftAttempts\": 3, \"GoingRightAttempts\": 8}, {\"displayName\": \"Matt Ryan\", \"Overall\": 0.708185053380783, \"TraditionalDropback\": 0.7307692307692307, \"GoingLeft\": 0.7142857142857143, \"GoingRight\": 0.8260869565217391, \"ReceiverDistance\": 5.061459074733096, \"OverallAttempts\": 281, \"TraditionalDropbackAttempts\": 234, \"GoingLeftAttempts\": 7, \"GoingRightAttempts\": 23}, {\"displayName\": \"Matthew Stafford\", \"Overall\": 0.6468085106382979, \"TraditionalDropback\": 0.6868686868686869, \"GoingLeft\": 0.5, \"GoingRight\": 0.625, \"ReceiverDistance\": 7.203021276595745, \"OverallAttempts\": 235, \"TraditionalDropbackAttempts\": 198, \"GoingLeftAttempts\": 12, \"GoingRightAttempts\": 16}, {\"displayName\": \"Mike White\", \"Overall\": 0.7272727272727273, \"TraditionalDropback\": 0.7555555555555555, \"GoingLeft\": 1.0, \"GoingRight\": 1.0, \"ReceiverDistance\": 5.617454545454545, \"OverallAttempts\": 55, \"TraditionalDropbackAttempts\": 45, \"GoingLeftAttempts\": 3, \"GoingRightAttempts\": 2}, {\"displayName\": \"Patrick Mahomes\", \"Overall\": 0.6594827586206896, \"TraditionalDropback\": 0.6783625730994152, \"GoingLeft\": 0.7333333333333333, \"GoingRight\": 0.7307692307692307, \"ReceiverDistance\": 7.670646551724139, \"OverallAttempts\": 232, \"TraditionalDropbackAttempts\": 171, \"GoingLeftAttempts\": 15, \"GoingRightAttempts\": 26}, {\"displayName\": \"Russell Wilson\", \"Overall\": 0.6972477064220184, \"TraditionalDropback\": 0.7560975609756098, \"GoingLeft\": 0.5, \"GoingRight\": 0.7692307692307693, \"ReceiverDistance\": 7.3768807339449545, \"OverallAttempts\": 109, \"TraditionalDropbackAttempts\": 82, \"GoingLeftAttempts\": 6, \"GoingRightAttempts\": 13}, {\"displayName\": \"Ryan Tannehill\", \"Overall\": 0.6978723404255319, \"TraditionalDropback\": 0.7227722772277227, \"GoingLeft\": 0.6666666666666666, \"GoingRight\": 0.6428571428571429, \"ReceiverDistance\": 5.998382978723405, \"OverallAttempts\": 235, \"TraditionalDropbackAttempts\": 202, \"GoingLeftAttempts\": 3, \"GoingRightAttempts\": 14}, {\"displayName\": \"Sam Darnold\", \"Overall\": 0.6140350877192983, \"TraditionalDropback\": 0.6388888888888888, \"GoingLeft\": 0.3333333333333333, \"GoingRight\": 0.625, \"ReceiverDistance\": 5.357543859649123, \"OverallAttempts\": 171, \"TraditionalDropbackAttempts\": 144, \"GoingLeftAttempts\": 3, \"GoingRightAttempts\": 16}, {\"displayName\": \"Taylor Heinicke\", \"Overall\": 0.6220095693779905, \"TraditionalDropback\": 0.6420454545454546, \"GoingLeft\": 0.4, \"GoingRight\": 0.8125, \"ReceiverDistance\": 6.917703349282297, \"OverallAttempts\": 209, \"TraditionalDropbackAttempts\": 176, \"GoingLeftAttempts\": 5, \"GoingRightAttempts\": 16}, {\"displayName\": \"Teddy Bridgewater\", \"Overall\": 0.7253218884120172, \"TraditionalDropback\": 0.7219251336898396, \"GoingLeft\": 0.875, \"GoingRight\": 0.7931034482758621, \"ReceiverDistance\": 6.460129310344827, \"OverallAttempts\": 233, \"TraditionalDropbackAttempts\": 187, \"GoingLeftAttempts\": 8, \"GoingRightAttempts\": 29}, {\"displayName\": \"Tom Brady\", \"Overall\": 0.6655405405405406, \"TraditionalDropback\": 0.6788321167883211, \"GoingLeft\": 0.0, \"GoingRight\": 0.6363636363636364, \"ReceiverDistance\": 6.808614864864865, \"OverallAttempts\": 296, \"TraditionalDropbackAttempts\": 274, \"GoingLeftAttempts\": 1, \"GoingRightAttempts\": 11}, {\"displayName\": \"Trevor Lawrence\", \"Overall\": 0.5869565217391305, \"TraditionalDropback\": 0.6, \"GoingLeft\": 0.35294117647058826, \"GoingRight\": 0.85, \"ReceiverDistance\": 6.649739130434783, \"OverallAttempts\": 230, \"TraditionalDropbackAttempts\": 180, \"GoingLeftAttempts\": 17, \"GoingRightAttempts\": 20}, {\"displayName\": \"Tua Tagovailoa\", \"Overall\": 0.7058823529411765, \"TraditionalDropback\": 0.6881720430107527, \"GoingLeft\": 0.8125, \"GoingRight\": 0.5, \"ReceiverDistance\": 5.688823529411764, \"OverallAttempts\": 119, \"TraditionalDropbackAttempts\": 93, \"GoingLeftAttempts\": 16, \"GoingRightAttempts\": 4}, {\"displayName\": \"Zach Wilson\", \"Overall\": 0.5675675675675675, \"TraditionalDropback\": 0.6320754716981132, \"GoingLeft\": 0.36363636363636365, \"GoingRight\": 0.5294117647058824, \"ReceiverDistance\": 8.377162162162161, \"OverallAttempts\": 148, \"TraditionalDropbackAttempts\": 106, \"GoingLeftAttempts\": 11, \"GoingRightAttempts\": 17}]}}, {\"mode\": \"vega-lite\"});\n",
       "</script>"
      ],
      "text/plain": [
       "alt.HConcatChart(...)"
      ]
     },
     "execution_count": 11,
     "metadata": {},
     "output_type": "execute_result"
    }
   ],
   "source": [
    "\n",
    "# Create individual charts with colors\n",
    "chart_overall = create_bar_chart(qb_comp, 'Overall', 'Overall Completion %', 'blue', None, 'OverallAttempts',True )\n",
    "chart_traditional = create_bar_chart(qb_comp, 'TraditionalDropback', 'Traditional Dropback Completion %', 'green', None, 'TraditionalDropbackAttempts',False)\n",
    "chart_left = create_bar_chart(qb_comp, 'GoingLeft', 'Scramble/Rolling Left Completion %', 'red', None, 'GoingLeftAttempts',False)\n",
    "chart_right = create_bar_chart(qb_comp, 'GoingRight', 'Scramble/Rolling Right Completion %', 'orange', None,'GoingRightAttempts', False)\n",
    "\n",
    "# Concatenate the charts\n",
    "final_chart = alt.hconcat(chart_overall, chart_traditional, chart_left, chart_right, chart_distance, spacing =0)\n",
    "final_chart = final_chart.configure_axis(\n",
    "    grid=False,\n",
    "    labelFontWeight='bold'\n",
    ").resolve_scale(y='shared').configure_view(\n",
    "    stroke=None\n",
    ")\n",
    "final_chart = final_chart.properties(\n",
    "    title={\n",
    "      \"text\": [\"Quarterback Completion Percentage Breakdown\"], \n",
    "      \"subtitle\": [\"Minimum 50 Passes thrown\"],\n",
    "      \"subtitleColor\": \"gray\",\n",
    "      \"fontSize\": 20  # Adjust this value as needed\n",
    "    }\n",
    ")\n",
    "\n",
    "# Display the chart\n",
    "final_chart"
   ]
  }
 ],
 "metadata": {
  "kernelspec": {
   "display_name": "Python 3",
   "language": "python",
   "name": "python3"
  },
  "language_info": {
   "codemirror_mode": {
    "name": "ipython",
    "version": 3
   },
   "file_extension": ".py",
   "mimetype": "text/x-python",
   "name": "python",
   "nbconvert_exporter": "python",
   "pygments_lexer": "ipython3",
   "version": "3.9.13"
  },
  "orig_nbformat": 4
 },
 "nbformat": 4,
 "nbformat_minor": 2
}
